{
 "cells": [
  {
   "cell_type": "code",
   "execution_count": 1,
   "id": "738c55a9",
   "metadata": {},
   "outputs": [],
   "source": [
    "from llama_index.llms.openai import OpenAI\n",
    "from llama_index.core.agent import FunctionCallingAgent\n",
    "from llama_index.core.tools import FunctionTool\n",
    "import numpy as np\n",
    "\n",
    "llm = OpenAI(model=\"gpt-4o\")"
   ]
  },
  {
   "cell_type": "code",
   "execution_count": 2,
   "id": "7b149afc",
   "metadata": {},
   "outputs": [],
   "source": [
    "def add(a,b):\n",
    "    \"\"\" 주어진 두 숫자를 더하고 결과를 출력합니다 \"\"\"\n",
    "    return a + b\n",
    "\n",
    "def mul(a,b):\n",
    "    \"\"\" 주어진 두 숫자를 곱하고 결과를 출력합니다 \"\"\"\n",
    "    return a * b\n",
    "\n",
    "def div(a,b):\n",
    "    \"\"\" 주어진 두 숫자 중 첫 번째 숫자를 두 번째 숫자로 나누고 결과를 출력합니다 \"\"\"\n",
    "    return a / b"
   ]
  },
  {
   "cell_type": "code",
   "execution_count": 3,
   "id": "81d7c1f1",
   "metadata": {},
   "outputs": [],
   "source": [
    "at = FunctionTool.from_defaults(fn=add)\n",
    "mt = FunctionTool.from_defaults(fn=mul)\n",
    "dt = FunctionTool.from_defaults(fn=div)"
   ]
  },
  {
   "cell_type": "code",
   "execution_count": 4,
   "id": "21bdaf2d",
   "metadata": {},
   "outputs": [],
   "source": [
    "agent_worker = FunctionCallingAgent.from_tools([at, mt, dt],\n",
    "                                                    llm=llm,\n",
    "                                                    verbose=True,\n",
    "                                                    allow_parallel_tool_calls=False\n",
    "                                                    )"
   ]
  },
  {
   "cell_type": "code",
   "execution_count": 5,
   "id": "7ddf8ef9",
   "metadata": {},
   "outputs": [
    {
     "name": "stdout",
     "output_type": "stream",
     "text": [
      "> Running step ab7f30ed-5b23-4c07-9a08-b1a6b189f472. Step input: (77*2+2)를 78로 나눈 값을 계산해 줘\n",
      "Added user message to memory: (77*2+2)를 78로 나눈 값을 계산해 줘\n",
      "=== Calling Function ===\n",
      "Calling function: add with args: {\"a\": 154, \"b\": 2}\n",
      "=== Function Output ===\n",
      "156\n",
      "> Running step bb1593eb-2d86-40fc-ac83-5204e7c1d6dd. Step input: None\n",
      "=== Calling Function ===\n",
      "Calling function: div with args: {\"a\": 156, \"b\": 78}\n",
      "=== Function Output ===\n",
      "2.0\n",
      "> Running step 49d827a5-a407-4072-8a3f-f71974a9f76a. Step input: None\n",
      "=== LLM Response ===\n",
      "\\((77 \\times 2 + 2) \\div 78\\)의 값은 2.0입니다.\n",
      "\\((77 \\times 2 + 2) \\div 78\\)의 값은 2.0입니다.\n"
     ]
    }
   ],
   "source": [
    "response = agent_worker.chat(\"(77*2+2)를 78로 나눈 값을 계산해 줘\")\n",
    "print(response)"
   ]
  },
  {
   "cell_type": "code",
   "execution_count": 6,
   "id": "1f7573e6",
   "metadata": {},
   "outputs": [],
   "source": [
    "from llama_index.llms.openai import OpenAI\n",
    "from llama_index.core.agent import FunctionCallingAgent\n",
    "from llama_index.core.tools import FunctionTool\n",
    "import numpy as np\n",
    "\n",
    "llm = OpenAI(model=\"gpt-4o\")"
   ]
  },
  {
   "cell_type": "code",
   "execution_count": 7,
   "id": "780f1aac",
   "metadata": {},
   "outputs": [
    {
     "name": "stdout",
     "output_type": "stream",
     "text": [
      "Requirement already satisfied: yfinance==0.2.55 in ./ch08_env/lib/python3.11/site-packages (0.2.55)\n",
      "Requirement already satisfied: pandas>=1.3.0 in ./ch08_env/lib/python3.11/site-packages (from yfinance==0.2.55) (2.3.0)\n",
      "Requirement already satisfied: numpy>=1.16.5 in ./ch08_env/lib/python3.11/site-packages (from yfinance==0.2.55) (1.26.4)\n",
      "Requirement already satisfied: requests>=2.31 in ./ch08_env/lib/python3.11/site-packages (from yfinance==0.2.55) (2.32.4)\n",
      "Requirement already satisfied: multitasking>=0.0.7 in ./ch08_env/lib/python3.11/site-packages (from yfinance==0.2.55) (0.0.11)\n",
      "Requirement already satisfied: platformdirs>=2.0.0 in ./ch08_env/lib/python3.11/site-packages (from yfinance==0.2.55) (4.3.8)\n",
      "Requirement already satisfied: pytz>=2022.5 in ./ch08_env/lib/python3.11/site-packages (from yfinance==0.2.55) (2025.2)\n",
      "Requirement already satisfied: frozendict>=2.3.4 in ./ch08_env/lib/python3.11/site-packages (from yfinance==0.2.55) (2.4.6)\n",
      "Requirement already satisfied: peewee>=3.16.2 in ./ch08_env/lib/python3.11/site-packages (from yfinance==0.2.55) (3.18.1)\n",
      "Requirement already satisfied: beautifulsoup4>=4.11.1 in ./ch08_env/lib/python3.11/site-packages (from yfinance==0.2.55) (4.13.4)\n",
      "Requirement already satisfied: soupsieve>1.2 in ./ch08_env/lib/python3.11/site-packages (from beautifulsoup4>=4.11.1->yfinance==0.2.55) (2.7)\n",
      "Requirement already satisfied: typing-extensions>=4.0.0 in ./ch08_env/lib/python3.11/site-packages (from beautifulsoup4>=4.11.1->yfinance==0.2.55) (4.14.0)\n",
      "Requirement already satisfied: python-dateutil>=2.8.2 in ./ch08_env/lib/python3.11/site-packages (from pandas>=1.3.0->yfinance==0.2.55) (2.9.0.post0)\n",
      "Requirement already satisfied: tzdata>=2022.7 in ./ch08_env/lib/python3.11/site-packages (from pandas>=1.3.0->yfinance==0.2.55) (2025.2)\n",
      "Requirement already satisfied: charset_normalizer<4,>=2 in ./ch08_env/lib/python3.11/site-packages (from requests>=2.31->yfinance==0.2.55) (3.4.2)\n",
      "Requirement already satisfied: idna<4,>=2.5 in ./ch08_env/lib/python3.11/site-packages (from requests>=2.31->yfinance==0.2.55) (3.10)\n",
      "Requirement already satisfied: urllib3<3,>=1.21.1 in ./ch08_env/lib/python3.11/site-packages (from requests>=2.31->yfinance==0.2.55) (2.5.0)\n",
      "Requirement already satisfied: certifi>=2017.4.17 in ./ch08_env/lib/python3.11/site-packages (from requests>=2.31->yfinance==0.2.55) (2025.6.15)\n",
      "Requirement already satisfied: six>=1.5 in ./ch08_env/lib/python3.11/site-packages (from python-dateutil>=2.8.2->pandas>=1.3.0->yfinance==0.2.55) (1.17.0)\n",
      "\n",
      "\u001b[1m[\u001b[0m\u001b[34;49mnotice\u001b[0m\u001b[1;39;49m]\u001b[0m\u001b[39;49m A new release of pip is available: \u001b[0m\u001b[31;49m24.0\u001b[0m\u001b[39;49m -> \u001b[0m\u001b[32;49m25.1.1\u001b[0m\n",
      "\u001b[1m[\u001b[0m\u001b[34;49mnotice\u001b[0m\u001b[1;39;49m]\u001b[0m\u001b[39;49m To update, run: \u001b[0m\u001b[32;49mpip install --upgrade pip\u001b[0m\n"
     ]
    }
   ],
   "source": [
    "!pip install yfinance==0.2.55\n",
    "import yfinance as yf"
   ]
  },
  {
   "cell_type": "code",
   "execution_count": 8,
   "id": "c19d6425",
   "metadata": {},
   "outputs": [],
   "source": [
    "def get_stock_price_us(code):\n",
    "    ticker = yf.Ticker(f\"{code}\")\n",
    "    todays_data = ticker.history(period='1d')\n",
    "    return round(todays_data['Close'].iloc[0], 2)"
   ]
  },
  {
   "cell_type": "code",
   "execution_count": 9,
   "id": "f2c27131",
   "metadata": {},
   "outputs": [],
   "source": [
    "def get_stock_price_Korea(code):\n",
    "    ticker = yf.Ticker(f\"{code}.KS\")\n",
    "    todays_data = ticker.history(period='1d')\n",
    "    return round(todays_data['Close'].iloc[0], 2)"
   ]
  },
  {
   "cell_type": "code",
   "execution_count": 10,
   "id": "70ab14aa",
   "metadata": {},
   "outputs": [],
   "source": [
    "stock_k = FunctionTool.from_defaults(fn=get_stock_price_Korea)\n",
    "stock_u = FunctionTool.from_defaults(fn=get_stock_price_us)"
   ]
  },
  {
   "cell_type": "code",
   "execution_count": 11,
   "id": "3735a197",
   "metadata": {},
   "outputs": [],
   "source": [
    "agent_worker=FunctionCallingAgent.from_tools([stock_k, stock_u],\n",
    "                                                llm=llm,\n",
    "                                                verbose=True,\n",
    "                                                allow_parallel_tool_calls=False\n",
    "                                                )"
   ]
  },
  {
   "cell_type": "code",
   "execution_count": 12,
   "id": "4a8d5939",
   "metadata": {},
   "outputs": [
    {
     "name": "stdout",
     "output_type": "stream",
     "text": [
      "> Running step 582f8e13-64c8-4c38-afe2-47e603d124dc. Step input: TESLA 최신 종가가 어떻게 돼?\n",
      "Added user message to memory: TESLA 최신 종가가 어떻게 돼?\n",
      "=== Calling Function ===\n",
      "Calling function: get_stock_price_us with args: {\"code\": \"TSLA\"}\n",
      "=== Function Output ===\n",
      "300.71\n",
      "> Running step e69cb6d3-f160-40c4-9d9c-9b1db14a8347. Step input: None\n",
      "=== LLM Response ===\n",
      "TESLA의 최신 종가는 $300.71입니다.\n"
     ]
    }
   ],
   "source": [
    "response = agent_worker.chat(\"TESLA 최신 종가가 어떻게 돼?\")"
   ]
  },
  {
   "cell_type": "code",
   "execution_count": 13,
   "id": "7a10b9d1",
   "metadata": {},
   "outputs": [
    {
     "name": "stdout",
     "output_type": "stream",
     "text": [
      "> Running step 94009556-cce9-4e55-acb5-bbc99504ccf9. Step input: 삼성전자의 최신 종가가 어떻게 돼?\n",
      "Added user message to memory: 삼성전자의 최신 종가가 어떻게 돼?\n",
      "=== Calling Function ===\n",
      "Calling function: get_stock_price_Korea with args: {\"code\": \"005930\"}\n",
      "=== Function Output ===\n",
      "60550.0\n",
      "> Running step 7b03268a-59f2-4a3e-91b5-b9b3716b142c. Step input: None\n",
      "=== LLM Response ===\n",
      "삼성전자의 최신 종가는 60,550원입니다.\n"
     ]
    }
   ],
   "source": [
    "response = agent_worker.chat(\"삼성전자의 최신 종가가 어떻게 돼?\")"
   ]
  },
  {
   "cell_type": "code",
   "execution_count": 14,
   "id": "9f7e1cfe",
   "metadata": {},
   "outputs": [],
   "source": [
    "def get_stock_price_us(code):\n",
    "    ticker = yf.Ticker(f\"{code}\")\n",
    "    todays_data = ticker.history(period='1d')\n",
    "\n",
    "    if not todays_data.empty:\n",
    "        close_price = round(todays_data['Close'].iloc[0], 2)\n",
    "        close_date = todays_data.index[0].strftime('%Y-%m-%d')\n",
    "        return close_price, close_date\n",
    "\n",
    "    else:\n",
    "        return None, None"
   ]
  },
  {
   "cell_type": "code",
   "execution_count": 15,
   "id": "abe2a27e",
   "metadata": {},
   "outputs": [
    {
     "name": "stdout",
     "output_type": "stream",
     "text": [
      "Collecting curl_cffi\n",
      "  Using cached curl_cffi-0.11.4-cp39-abi3-macosx_11_0_arm64.whl.metadata (14 kB)\n",
      "Collecting cffi>=1.12.0 (from curl_cffi)\n",
      "  Using cached cffi-1.17.1-cp311-cp311-macosx_11_0_arm64.whl.metadata (1.5 kB)\n",
      "Requirement already satisfied: certifi>=2024.2.2 in ./ch08_env/lib/python3.11/site-packages (from curl_cffi) (2025.6.15)\n",
      "Collecting pycparser (from cffi>=1.12.0->curl_cffi)\n",
      "  Using cached pycparser-2.22-py3-none-any.whl.metadata (943 bytes)\n",
      "Using cached curl_cffi-0.11.4-cp39-abi3-macosx_11_0_arm64.whl (3.0 MB)\n",
      "Using cached cffi-1.17.1-cp311-cp311-macosx_11_0_arm64.whl (178 kB)\n",
      "Using cached pycparser-2.22-py3-none-any.whl (117 kB)\n",
      "Installing collected packages: pycparser, cffi, curl_cffi\n",
      "Successfully installed cffi-1.17.1 curl_cffi-0.11.4 pycparser-2.22\n",
      "\n",
      "\u001b[1m[\u001b[0m\u001b[34;49mnotice\u001b[0m\u001b[1;39;49m]\u001b[0m\u001b[39;49m A new release of pip is available: \u001b[0m\u001b[31;49m24.0\u001b[0m\u001b[39;49m -> \u001b[0m\u001b[32;49m25.1.1\u001b[0m\n",
      "\u001b[1m[\u001b[0m\u001b[34;49mnotice\u001b[0m\u001b[1;39;49m]\u001b[0m\u001b[39;49m To update, run: \u001b[0m\u001b[32;49mpip install --upgrade pip\u001b[0m\n"
     ]
    }
   ],
   "source": [
    "!pip install curl_cffi # curl_cffi 설치\n",
    "from curl_cffi import requests\n",
    "\n",
    "# 미국 주식 최신 종가 호출\n",
    "def get_stock_price_us(code):\n",
    "    session = requests.Session(impersonate=\"chrome\")\n",
    "    ticker = yf.Ticker(f\"{code}\", session=session)\n",
    "    todays_data = ticker.history(period='1d')\n",
    "    return round(todays_data['Close'].iloc[0], 2)\n",
    "\n",
    "# 한국 주식 최신 종가 호출\n",
    "def get_stock_price_Korea(code):\n",
    "    session = requests.Session(impersonate=\"chrome\")\n",
    "    ticker = yf.Ticker(f\"{code}.KS\", session=session)\n",
    "    todays_data = ticker.history(period='1d')\n",
    "    return round(todays_data['Close'].iloc[0], 2)"
   ]
  },
  {
   "cell_type": "code",
   "execution_count": 17,
   "id": "5ddc439b",
   "metadata": {},
   "outputs": [],
   "source": [
    "from llama_index.llms.openai import OpenAI\n",
    "from llama_index.embeddings.openai import OpenAIEmbedding\n",
    "from llama_index.core.settings import Settings\n",
    "\n",
    "Settings.llm = OpenAI(model=\"gpt-4o\")\n",
    "Settings.embed_model = OpenAIEmbedding(model=\"text-embedding-3-small\")"
   ]
  },
  {
   "cell_type": "code",
   "execution_count": 18,
   "id": "e8d7ed60",
   "metadata": {},
   "outputs": [],
   "source": [
    "from llama_index.core import (\n",
    "    SimpleDirectoryReader,\n",
    "    VectorStoreIndex\n",
    ")\n",
    "from llama_index.core.tools import QueryEngineTool"
   ]
  },
  {
   "cell_type": "code",
   "execution_count": 19,
   "id": "aee0db70",
   "metadata": {},
   "outputs": [
    {
     "name": "stdout",
     "output_type": "stream",
     "text": [
      "완료: [삼성전자]사업보고서_2022.pdf 다운로드 완료\n",
      "완료: [삼성전자]사업보고서_2023.pdf 다운로드 완료\n",
      "완료: [삼성전자]사업보고서_2024.pdf 다운로드 완료\n"
     ]
    }
   ],
   "source": [
    "import os\n",
    "import urllib.parse\n",
    "import requests\n",
    "import re\n",
    "\n",
    "urls=[\n",
    "    \"https://raw.githubusercontent.com/llama-index-tutorial/llama-index-tutorial/main/ch08/data/%5B%EC%82%BC%EC%84%B1%EC%A0%84%EC%9E%90%5D%EC%82%AC%EC%97%85%EB%B3%B4%EA%B3%A0%EC%84%9C_2022.pdf\",\n",
    "    \"https://raw.githubusercontent.com/llama-index-tutorial/llama-index-tutorial/main/ch08/data/%5B%EC%82%BC%EC%84%B1%EC%A0%84%EC%9E%90%5D%EC%82%AC%EC%97%85%EB%B3%B4%EA%B3%A0%EC%84%9C_2023.pdf\",\n",
    "    \"https://raw.githubusercontent.com/llama-index-tutorial/llama-index-tutorial/main/ch08/data/%5B%EC%82%BC%EC%84%B1%EC%A0%84%EC%9E%90%5D%EC%82%AC%EC%97%85%EB%B3%B4%EA%B3%A0%EC%84%9C_2024.pdf\"\n",
    "]\n",
    "\n",
    "# 각 파일 다운로드\n",
    "for url in urls:\n",
    "    encoded_filename = url.split(\"/\")[-1] # URL에서 파일명 추출\n",
    "    decoded_filename = urllib.parse.unquote(encoded_filename) # 한글 파일명 복원\n",
    "    response = requests.get(url)\n",
    "    if response.status_code == 200:\n",
    "        # 임시 파일명으로 저장\n",
    "        temp_filename = \"temp_download_file\" + os.path.splitext(decoded_filename)[1]\n",
    "        with open(temp_filename, 'wb') as f:\n",
    "            f.write(response.content)\n",
    "        os.rename(temp_filename, decoded_filename) # 파일명 변경\n",
    "        print(f\"완료: {decoded_filename} 다운로드 완료\")\n",
    "    else:\n",
    "        print(f\"오류: {url} 다운로드 실패 (상태 코드: {response.status_code})\\n\")"
   ]
  },
  {
   "cell_type": "code",
   "execution_count": 20,
   "id": "6d2bfcba",
   "metadata": {},
   "outputs": [],
   "source": [
    "S2024_docs = SimpleDirectoryReader(\n",
    "    input_files=[\"./data/[삼성전자]사업보고서_2024.pdf\"]\n",
    ").load_data()\n",
    "S2023_docs = SimpleDirectoryReader(\n",
    "    input_files=[\"./data/[삼성전자]사업보고서_2023.pdf\"]\n",
    ").load_data()\n",
    "S2022_docs = SimpleDirectoryReader(\n",
    "    input_files=[\"./data/[삼성전자]사업보고서_2022.pdf\"]\n",
    ").load_data()"
   ]
  },
  {
   "cell_type": "code",
   "execution_count": 21,
   "id": "c8bf53b6",
   "metadata": {},
   "outputs": [],
   "source": [
    "S2024_index = VectorStoreIndex.from_documents(S2024_docs)\n",
    "S2023_index = VectorStoreIndex.from_documents(S2023_docs)\n",
    "S2022_index = VectorStoreIndex.from_documents(S2022_docs)"
   ]
  },
  {
   "cell_type": "code",
   "execution_count": 22,
   "id": "e56045c9",
   "metadata": {},
   "outputs": [],
   "source": [
    "S2024_engine = S2024_index.as_query_engine(similarity_top_k=3)\n",
    "S2023_engine = S2023_index.as_query_engine(similarity_top_k=3)\n",
    "S2022_engine = S2022_index.as_query_engine(similarity_top_k=3)"
   ]
  },
  {
   "cell_type": "code",
   "execution_count": 23,
   "id": "bce13289",
   "metadata": {},
   "outputs": [],
   "source": [
    "query_engine_tools = [\n",
    "    QueryEngineTool.from_defaults(\n",
    "        query_engine=S2024_engine,\n",
    "        name=\"samsung_2024\",\n",
    "        description=(\n",
    "            \"삼성전자의 2024년 재무상태에 대해 정보 제공해 주세요.\"\n",
    "            \"도구에 입력할 때 자세한 일반 텍스트 질문을 사용합니다.\"\n",
    "            \"실적 분석할 때 보고서를 충분히 검토한 후 답변해 주세요\"\n",
    "        ),\n",
    "    ),\n",
    "    QueryEngineTool.from_defaults(\n",
    "        query_engine=S2023_engine,\n",
    "        name=\"samsung_2023\",\n",
    "        description=(\n",
    "            \"삼성전자의 2023년 재무상태에 대해 정보 제공해 주세요.\"\n",
    "            \"도구에 입력할 때 자세한 일반 텍스트 질문을 사용합니다.\"\n",
    "            \"실적 분석할 때 보고서를 충분히 검토한 후 답변해 주세요\"\n",
    "        ),\n",
    "    ),\n",
    "    QueryEngineTool.from_defaults(\n",
    "        query_engine=S2022_engine,\n",
    "        name=\"samsung_2022\",\n",
    "        description=(\n",
    "            \"삼성전자의 2022년 재무상태에 대해 정보 제공해 주세요.\"\n",
    "            \"도구에 입력할 때 자세한 일반 텍스트 질문을 사용합니다.\"\n",
    "            \"실적 분석할 때 보고서를 충분히 검토한 후 답변해 주세요\"\n",
    "        ),\n",
    "    ),\n",
    "]"
   ]
  },
  {
   "cell_type": "code",
   "execution_count": 24,
   "id": "e37c5653",
   "metadata": {},
   "outputs": [],
   "source": [
    "from llama_index.core.agent import FunctionCallingAgent\n",
    "\n",
    "agent = FunctionCallingAgent.from_tools(tools=query_engine_tools,\n",
    "                                            llm=llm,\n",
    "                                            verbose=True,\n",
    "                                            )"
   ]
  },
  {
   "cell_type": "code",
   "execution_count": 25,
   "id": "81721f82",
   "metadata": {},
   "outputs": [
    {
     "name": "stdout",
     "output_type": "stream",
     "text": [
      "> Running step d41dbebd-e4ac-4982-8b39-83b783b5eccd. Step input: 2022년 매출액과 2023년 매출액, 2024년 매출액을 차례로 알려줘\n",
      "Added user message to memory: 2022년 매출액과 2023년 매출액, 2024년 매출액을 차례로 알려줘\n",
      "=== Calling Function ===\n",
      "Calling function: samsung_2022 with args: {\"input\": \"2022\\ub144 \\uc0bc\\uc131\\uc804\\uc790\\uc758 \\ub9e4\\ucd9c\\uc561\\uc744 \\uc54c\\ub824\\uc8fc\\uc138\\uc694.\"}\n",
      "=== Function Output ===\n",
      "2022년 삼성전자의 매출액은 302조 2,314억원입니다.\n",
      "=== Calling Function ===\n",
      "Calling function: samsung_2023 with args: {\"input\": \"2023\\ub144 \\uc0bc\\uc131\\uc804\\uc790\\uc758 \\ub9e4\\ucd9c\\uc561\\uc744 \\uc54c\\ub824\\uc8fc\\uc138\\uc694.\"}\n",
      "=== Function Output ===\n",
      "2023년 삼성전자의 매출액은 258조 9,355억원입니다.\n",
      "=== Calling Function ===\n",
      "Calling function: samsung_2024 with args: {\"input\": \"2024\\ub144 \\uc0bc\\uc131\\uc804\\uc790\\uc758 \\ub9e4\\ucd9c\\uc561\\uc744 \\uc54c\\ub824\\uc8fc\\uc138\\uc694.\"}\n",
      "=== Function Output ===\n",
      "2024년 삼성전자의 매출액은 300조 8,709억원입니다.\n",
      "> Running step d1870e2d-7de5-4245-a168-bce4ba077218. Step input: None\n",
      "=== LLM Response ===\n",
      "- 2022년 삼성전자의 매출액은 302조 2,314억 원입니다.\n",
      "- 2023년 삼성전자의 매출액은 258조 9,355억 원입니다.\n",
      "- 2024년 삼성전자의 매출액은 300조 8,709억 원입니다.\n"
     ]
    }
   ],
   "source": [
    "response = agent.chat(\"2022년 매출액과 2023년 매출액, 2024년 매출액을 차례로 알려줘\")"
   ]
  },
  {
   "cell_type": "code",
   "execution_count": 26,
   "id": "e215dd5b",
   "metadata": {},
   "outputs": [
    {
     "name": "stdout",
     "output_type": "stream",
     "text": [
      "> Running step 60dcad5c-ad04-44a5-92d0-e99d717932bf. Step input: 삼성전자의 2023년 매출액이 2022년에 비해 많이 줄었는데, 2024년에는다시 회복됐어. 이유를 뭐라고 분석하고 있어? 보고서를 충분히 검토하고 답변해 줘\n",
      "Added user message to memory: 삼성전자의 2023년 매출액이 2022년에 비해 많이 줄었는데, 2024년에는다시 회복됐어. 이유를 뭐라고 분석하고 있어? 보고서를 충분히 검토하고 답변해 줘\n",
      "=== Calling Function ===\n",
      "Calling function: samsung_2023 with args: {\"input\": \"2023\\ub144 \\uc0bc\\uc131\\uc804\\uc790\\uc758 \\ub9e4\\ucd9c\\uc561\\uc774 2022\\ub144\\uc5d0 \\ube44\\ud574 \\uac10\\uc18c\\ud55c \\uc774\\uc720\\uc640 2024\\ub144\\uc5d0 \\ub2e4\\uc2dc \\ud68c\\ubcf5\\ub41c \\uc774\\uc720\\uc5d0 \\ub300\\ud574 \\ubd84\\uc11d\\ud55c \\ub0b4\\uc6a9\\uc744 \\ubcf4\\uace0\\uc11c\\ub97c \\ud1b5\\ud574 \\uc54c\\ub824\\uc8fc\\uc138\\uc694.\"}\n",
      "=== Function Output ===\n",
      "2023년 삼성전자의 매출액은 전년 대비 14.3% 감소했습니다. 이는 여러 부문에서의 매출 감소가 원인으로 작용했습니다. 특히 DS 부문에서 32.4%의 큰 감소가 있었고, DX 부문과 SDC 부문도 각각 6.8%와 9.9% 감소했습니다. 반면, Harman 부문은 8.9% 증가했습니다. 이러한 매출 감소는 글로벌 경기 불확실성과 소비심리 악화 등이 영향을 미쳤을 가능성이 있습니다.\n",
      "\n",
      "2024년에 매출이 회복될 것으로 예상되는 이유는 스마트폰 시장의 경기 회복과 폴더블폰 수요 증가가 긍정적인 영향을 미칠 것으로 보이기 때문입니다. 또한, 태블릿 시장도 교체 주기 도래에 따라 수요가 점진적으로 회복될 전망입니다. 이러한 요인들이 삼성전자의 매출 회복에 기여할 것으로 예상됩니다.\n",
      "> Running step f04509b5-8046-4a92-ac6a-6dcad8fac4bc. Step input: None\n",
      "=== LLM Response ===\n",
      "2023년 삼성전자의 매출액 감소는 여러 부문에서의 매출 하락이 주요 원인으로 작용했습니다. 특히, DS 부문에서 32.4%의 큰 감소가 있었고, DX 부문과 SDC 부문도 각각 6.8%와 9.9% 감소했습니다. 이러한 매출 감소는 글로벌 경기 불확실성과 소비심리 악화 등이 영향을 미쳤을 가능성이 있습니다. 반면, Harman 부문은 8.9% 증가했습니다.\n",
      "\n",
      "2024년에 매출이 회복될 것으로 예상되는 이유는 스마트폰 시장의 경기 회복과 폴더블폰 수요 증가가 긍정적인 영향을 미칠 것으로 보이기 때문입니다. 또한, 태블릿 시장도 교체 주기 도래에 따라 수요가 점진적으로 회복될 전망입니다. 이러한 요인들이 삼성전자의 매출 회복에 기여할 것으로 예상됩니다.\n"
     ]
    }
   ],
   "source": [
    "response = agent.chat(\"삼성전자의 2023년 매출액이 2022년에 비해 많이 줄었는데, 2024년에는다시 회복됐어. 이유를 뭐라고 분석하고 있어? 보고서를 충분히 검토하고 답변해 줘\")"
   ]
  },
  {
   "cell_type": "code",
   "execution_count": null,
   "id": "e414f38e",
   "metadata": {},
   "outputs": [],
   "source": []
  }
 ],
 "metadata": {
  "kernelspec": {
   "display_name": "ch08_env",
   "language": "python",
   "name": "python3"
  },
  "language_info": {
   "codemirror_mode": {
    "name": "ipython",
    "version": 3
   },
   "file_extension": ".py",
   "mimetype": "text/x-python",
   "name": "python",
   "nbconvert_exporter": "python",
   "pygments_lexer": "ipython3",
   "version": "3.11.9"
  }
 },
 "nbformat": 4,
 "nbformat_minor": 5
}
